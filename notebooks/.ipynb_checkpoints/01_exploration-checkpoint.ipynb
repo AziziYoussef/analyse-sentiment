{
 "cells": [
  {
   "cell_type": "code",
   "execution_count": 1,
   "metadata": {},
   "outputs": [
    {
     "name": "stdout",
     "output_type": "stream",
     "text": [
      "Nombre d'exemples d'entraînement: 6925\n",
      "Distribution des étiquettes: label\n",
      "=    3102\n",
      "+    2164\n",
      "-    1654\n",
      "Name: count, dtype: int64\n",
      "\n",
      "Exemples positifs:\n",
      "[\"Parc #éolien: entente conclut entre Port-Cartier la compagnie Système d'énergie renouvelable Canada: http://t.co/G9DWR1T792 #CoteNord\"\n",
      " 'Frédéric Chauvel : \"attirer les investisseurs en créant un écosystème favorisant\" #AFE2014'\n",
      " \"I liked a photo on @instagram: J'aime toujours les #eoliennes. #sexy #troublant #wind by annesobru http://t.co/zm7QO4YH6W\"]\n",
      "\n",
      "Exemples négatifs:\n",
      "['#Photos :Dans l’Ouest américain,les stigmates d’une sécheresse historique http://t.co/F6As9walnX #Environnement #Climat #EtatsUnis #Ecologie'\n",
      " 'Oublié le tps où Le Drian écrivait au ministre de la défense se plaigant de l’armée empêchant dvpt de l’éolien en Bzh http://t.co/JTlx2ngbe4'\n",
      " \"Ulcéré par les larmes de crocodile sur l'ecotaxe. @RoyalSegolene à raison de s'opposer à l'écologie punitive.\"]\n",
      "\n",
      "Exemples neutres:\n",
      "['Saint-Nazaire se rêve en capitale des #énergies marines renouvelables #electricite http://t.co/nArcLYqxLd'\n",
      " '4eme Conférence internationale sur le changement climatique et le développement http://t.co/biVoGZVlLj'\n",
      " \"Rencontres #windustry 2014 Sascha Wiesner décrit les innovations d'A2SEA dans le transport des éoliennes offshore http://t.co/hPD0DQPay6\"]\n"
     ]
    }
   ],
   "source": [
    "import pandas as pd\n",
    "\n",
    "# Charger les données\n",
    "train_data = pd.read_csv('../data/train.txt', sep='\\t', header=None, names=['text', 'label'])\n",
    "dev_data = pd.read_csv('../data/dev.txt', sep='\\t', header=None, names=['text', 'label'])\n",
    "\n",
    "# Afficher des informations de base\n",
    "print(f\"Nombre d'exemples d'entraînement: {len(train_data)}\")\n",
    "print(f\"Distribution des étiquettes: {train_data['label'].value_counts()}\")\n",
    "\n",
    "# Afficher quelques exemples\n",
    "print(\"\\nExemples positifs:\")\n",
    "print(train_data[train_data['label'] == '+'].head(3)['text'].values)\n",
    "\n",
    "print(\"\\nExemples négatifs:\")\n",
    "print(train_data[train_data['label'] == '-'].head(3)['text'].values)\n",
    "\n",
    "print(\"\\nExemples neutres:\")\n",
    "print(train_data[train_data['label'] == '='].head(3)['text'].values)"
   ]
  },
  {
   "cell_type": "code",
   "execution_count": null,
   "metadata": {},
   "outputs": [],
   "source": []
  }
 ],
 "metadata": {
  "kernelspec": {
   "display_name": "Python 3 (ipykernel)",
   "language": "python",
   "name": "python3"
  },
  "language_info": {
   "codemirror_mode": {
    "name": "ipython",
    "version": 3
   },
   "file_extension": ".py",
   "mimetype": "text/x-python",
   "name": "python",
   "nbconvert_exporter": "python",
   "pygments_lexer": "ipython3",
   "version": "3.11.11"
  }
 },
 "nbformat": 4,
 "nbformat_minor": 4
}
